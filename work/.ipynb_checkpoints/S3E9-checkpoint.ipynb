{
 "cells": [
  {
   "cell_type": "markdown",
   "metadata": {
    "collapsed": true
   },
   "source": [
    "# Random Forest: Bosques"
   ]
  },
  {
   "cell_type": "code",
   "execution_count": 1,
   "metadata": {
    "collapsed": true
   },
   "outputs": [],
   "source": [
    "#from pyspark import SparkContext\n",
    "#sc = SparkContext()\n",
    "#from pyspark.sql import SQLContext\n",
    "#sqlContext=SQLContext(sc)"
   ]
  },
  {
   "cell_type": "code",
   "execution_count": 2,
   "metadata": {
    "collapsed": true
   },
   "outputs": [],
   "source": [
    "bd5 = sqlContext.read.format(\n",
    "    \"com.databricks.spark.csv\"\n",
    ").option(\"header\", \"true\").load(\"file:/home/cloudera/Documents/Ficheros de trabajo/bd5.csv\", inferSchema=True)\n",
    "sqlContext.registerDataFrameAsTable(bd5, \"bd5\")"
   ]
  },
  {
   "cell_type": "code",
   "execution_count": 3,
   "metadata": {
    "collapsed": false
   },
   "outputs": [
    {
     "data": {
      "text/plain": [
       "[('Year', 'int'),\n",
       " ('Month', 'int'),\n",
       " ('DayofMonth', 'int'),\n",
       " ('DayOfWeek', 'int'),\n",
       " ('CRSDepTime', 'int'),\n",
       " ('UniqueCarrier', 'string'),\n",
       " ('TailNum', 'string'),\n",
       " ('ArrDelay', 'double'),\n",
       " ('DepDelay', 'double'),\n",
       " ('Origin', 'string'),\n",
       " ('Dest', 'string'),\n",
       " ('Distance', 'double'),\n",
       " ('Cancelled', 'double'),\n",
       " ('Diverted', 'double'),\n",
       " ('CarrierDelay', 'double'),\n",
       " ('WeatherDelay', 'double'),\n",
       " ('NASDelay', 'double'),\n",
       " ('SecurityDelay', 'double'),\n",
       " ('LateAircraftDelay', 'double'),\n",
       " ('LogD', 'double'),\n",
       " ('Retraso', 'int'),\n",
       " ('RetrasoNeto', 'double'),\n",
       " ('Horario', 'int')]"
      ]
     },
     "execution_count": 3,
     "metadata": {},
     "output_type": "execute_result"
    }
   ],
   "source": [
    "bd5.dtypes"
   ]
  },
  {
   "cell_type": "code",
   "execution_count": 4,
   "metadata": {
    "collapsed": false
   },
   "outputs": [
    {
     "name": "stdout",
     "output_type": "stream",
     "text": [
      "+-------------+------------------+-----+\n",
      "|UniqueCarrier|IndexUniqueCarrier|count|\n",
      "+-------------+------------------+-----+\n",
      "|           AA|               0.0| 8853|\n",
      "|           UA|               1.0| 6112|\n",
      "|           WN|               2.0| 5395|\n",
      "|           DL|               3.0| 4239|\n",
      "|           VX|               4.0| 1703|\n",
      "|           NK|               5.0| 1581|\n",
      "|           F9|               6.0| 1295|\n",
      "|           OO|               7.0| 1166|\n",
      "|           B6|               8.0|  121|\n",
      "|           EV|               9.0|    1|\n",
      "+-------------+------------------+-----+\n",
      "\n"
     ]
    }
   ],
   "source": [
    "from pyspark.ml.feature import StringIndexer\n",
    "\n",
    "indexer = StringIndexer(inputCol='UniqueCarrier',outputCol='IndexUniqueCarrier') #el índice empieza en el 0!\n",
    "bd6=indexer.fit(bd5).transform(bd5)\n",
    "\n",
    "bd6.groupBy('UniqueCarrier','IndexUniqueCarrier').count().sort('IndexUniqueCarrier').show()\n"
   ]
  },
  {
   "cell_type": "markdown",
   "metadata": {},
   "source": [
    "## Regression Random Forest"
   ]
  },
  {
   "cell_type": "code",
   "execution_count": 5,
   "metadata": {
    "collapsed": true
   },
   "outputs": [],
   "source": [
    "from pyspark.ml.feature import VectorAssembler\n",
    "from pyspark.sql.functions import col\n",
    "\n",
    "a1  = VectorAssembler(\n",
    "    inputCols=['DepDelay','Distance','DayOfWeek',\n",
    "               'CRSDepTime','IndexUniqueCarrier'],\n",
    "    outputCol='features')\n",
    "\n",
    "bd7 = a1.transform(bd6).select(col(\"ArrDelay\").alias(\"label\"),'features')"
   ]
  },
  {
   "cell_type": "markdown",
   "metadata": {},
   "source": [
    "## Partición Test - Train"
   ]
  },
  {
   "cell_type": "code",
   "execution_count": 6,
   "metadata": {
    "collapsed": false
   },
   "outputs": [
    {
     "name": "stdout",
     "output_type": "stream",
     "text": [
      "21353\n",
      "9113\n"
     ]
    }
   ],
   "source": [
    "(bd_train, bd_test) = bd7.randomSplit([0.7, 0.3],seed=123)\n",
    "print(bd_train.count())\n",
    "print(bd_test.count())"
   ]
  },
  {
   "cell_type": "code",
   "execution_count": 7,
   "metadata": {
    "collapsed": false
   },
   "outputs": [
    {
     "name": "stdout",
     "output_type": "stream",
     "text": [
      "Time to train model: 79.149 seconds\n"
     ]
    }
   ],
   "source": [
    "from pyspark.ml.regression import RandomForestRegressor\n",
    "from time import time\n",
    "\n",
    "start_time = time()\n",
    "\n",
    "# Train a RandomForest model.\n",
    "rf = RandomForestRegressor(labelCol=\"label\", \n",
    "     featuresCol=\"features\", \n",
    "     numTrees=500,\n",
    "     maxDepth=5,\n",
    "     seed = 1,\n",
    "     subsamplingRate=1.0,\n",
    "     featureSubsetStrategy=\"auto\")\n",
    "     \n",
    "model = rf.fit(bd_train)\n",
    "\n",
    "end_time = time()\n",
    "elapsed_time = end_time - start_time\n",
    "print(\"Time to train model: %.3f seconds\" % elapsed_time)\n",
    "\n",
    "pred = model.transform(bd_train)"
   ]
  },
  {
   "cell_type": "code",
   "execution_count": 8,
   "metadata": {
    "collapsed": false
   },
   "outputs": [
    {
     "name": "stdout",
     "output_type": "stream",
     "text": [
      "+-----+--------------------+\n",
      "|label|          prediction|\n",
      "+-----+--------------------+\n",
      "|-44.0|  1.5369796693622118|\n",
      "|-37.0|  -7.480585445088695|\n",
      "|-33.0|  -7.786198205520492|\n",
      "|-33.0|-0.13760268098662143|\n",
      "|-32.0|  -8.259144936694678|\n",
      "|-31.0| -3.5351598916085494|\n",
      "|-31.0|   7.527316183572975|\n",
      "|-31.0| -6.5850574893218035|\n",
      "|-30.0|   3.827691150596276|\n",
      "|-30.0|   3.028129763138726|\n",
      "|-30.0| -0.4705433586920781|\n",
      "|-30.0|   5.423756404839256|\n",
      "|-30.0|   6.985591697391444|\n",
      "|-29.0|  1.8043259284629405|\n",
      "|-28.0|  1.4146882441126978|\n",
      "|-28.0|  1.2019511268247198|\n",
      "|-27.0|   4.961207598523196|\n",
      "|-27.0|   4.940657233251919|\n",
      "|-27.0| -7.0663435584430445|\n",
      "|-27.0| -3.8949753254205164|\n",
      "+-----+--------------------+\n",
      "only showing top 20 rows\n",
      "\n"
     ]
    }
   ],
   "source": [
    "pred.select('label','prediction').show()"
   ]
  },
  {
   "cell_type": "code",
   "execution_count": 9,
   "metadata": {
    "collapsed": false
   },
   "outputs": [
    {
     "name": "stdout",
     "output_type": "stream",
     "text": [
      "0.6356948872790795\n"
     ]
    }
   ],
   "source": [
    "from pyspark.ml.evaluation import RegressionEvaluator\n",
    "\n",
    "print(RegressionEvaluator(metricName=\"r2\").evaluate(pred))"
   ]
  },
  {
   "cell_type": "code",
   "execution_count": 10,
   "metadata": {
    "collapsed": false
   },
   "outputs": [
    {
     "name": "stdout",
     "output_type": "stream",
     "text": [
      "0.5844532768389501\n"
     ]
    }
   ],
   "source": [
    "pred2 = model.transform(bd_test)\n",
    "print(RegressionEvaluator(metricName=\"r2\").evaluate(pred2))"
   ]
  },
  {
   "cell_type": "code",
   "execution_count": 11,
   "metadata": {
    "collapsed": true
   },
   "outputs": [],
   "source": [
    "# RandomForestRegressor(featuresCol=\"features\", \n",
    "#    labelCol=\"label\",\n",
    "#    predictionCol=\"prediction\",\n",
    "#    maxDepth=5,\n",
    "#    maxBins=32,\n",
    "#    minInstancesPerNode=1,\n",
    "#    minInfoGain=0.0,\n",
    "#    maxMemoryInMB=256, \n",
    "#    impurity=\"variance\", \n",
    "#    subsamplingRate=1.0, \n",
    "#    seed=None, \n",
    "#    numTrees=20,\n",
    "#    featureSubsetStrategy=\"auto\"  / \"sqrt\" / \"onethird\" / \"log2\" / \"all\")"
   ]
  },
  {
   "cell_type": "markdown",
   "metadata": {},
   "source": [
    "## Classification Random Forest"
   ]
  },
  {
   "cell_type": "code",
   "execution_count": 12,
   "metadata": {
    "collapsed": true
   },
   "outputs": [],
   "source": [
    "from pyspark.ml.feature import VectorAssembler, StringIndexer\n",
    "\n",
    "a1  = VectorAssembler(\n",
    "    inputCols=['DepDelay','Distance','DayOfWeek',\n",
    "               'CRSDepTime','IndexUniqueCarrier'],\n",
    "    outputCol='features')\n",
    "\n",
    "bd7 = a1.transform(bd6).select(col(\"Retraso\").cast('double').alias(\"label\"),'features')\n",
    "\n",
    "stringIndexer = StringIndexer(inputCol = 'label', outputCol = 'indexed')\n",
    "sI = stringIndexer.fit(bd7)\n",
    "bd7 = sI.transform(bd7)"
   ]
  },
  {
   "cell_type": "code",
   "execution_count": 13,
   "metadata": {
    "collapsed": false
   },
   "outputs": [
    {
     "name": "stdout",
     "output_type": "stream",
     "text": [
      "21353\n",
      "9113\n"
     ]
    }
   ],
   "source": [
    "(bd_train, bd_test) = bd7.randomSplit([0.7, 0.3],seed=123)\n",
    "print(bd_train.count())\n",
    "print(bd_test.count())"
   ]
  },
  {
   "cell_type": "code",
   "execution_count": 14,
   "metadata": {
    "collapsed": false
   },
   "outputs": [
    {
     "name": "stdout",
     "output_type": "stream",
     "text": [
      "Time to train model: 23.668 seconds\n"
     ]
    }
   ],
   "source": [
    "from pyspark.ml.classification import RandomForestClassifier\n",
    "\n",
    "start_time = time()\n",
    "\n",
    "# Train a RandomForest model.\n",
    "rf = RandomForestClassifier(labelCol=\"indexed\", \n",
    "     featuresCol=\"features\", \n",
    "     numTrees=500,\n",
    "     maxDepth=3, \n",
    "     seed = 1,\n",
    "     featureSubsetStrategy=\"sqrt\",\n",
    "     impurity='gini') \n",
    "\n",
    "model = rf.fit(bd_train)\n",
    "\n",
    "end_time = time()\n",
    "elapsed_time = end_time - start_time\n",
    "print(\"Time to train model: %.3f seconds\" % elapsed_time)\n",
    "\n",
    "pred = model.transform(bd_train)\n"
   ]
  },
  {
   "cell_type": "code",
   "execution_count": 15,
   "metadata": {
    "collapsed": false
   },
   "outputs": [
    {
     "name": "stdout",
     "output_type": "stream",
     "text": [
      "+-----+----------+\n",
      "|label|prediction|\n",
      "+-----+----------+\n",
      "|  0.0|       0.0|\n",
      "|  0.0|       0.0|\n",
      "|  0.0|       0.0|\n",
      "|  0.0|       0.0|\n",
      "|  0.0|       0.0|\n",
      "|  0.0|       0.0|\n",
      "|  0.0|       0.0|\n",
      "|  0.0|       0.0|\n",
      "|  0.0|       0.0|\n",
      "|  0.0|       0.0|\n",
      "|  0.0|       0.0|\n",
      "|  0.0|       0.0|\n",
      "|  0.0|       0.0|\n",
      "|  0.0|       0.0|\n",
      "|  0.0|       0.0|\n",
      "|  0.0|       0.0|\n",
      "|  0.0|       0.0|\n",
      "|  0.0|       0.0|\n",
      "|  0.0|       0.0|\n",
      "|  0.0|       0.0|\n",
      "+-----+----------+\n",
      "only showing top 20 rows\n",
      "\n"
     ]
    }
   ],
   "source": [
    "pred.select('label','prediction').show()"
   ]
  },
  {
   "cell_type": "code",
   "execution_count": 16,
   "metadata": {
    "collapsed": false
   },
   "outputs": [
    {
     "name": "stdout",
     "output_type": "stream",
     "text": [
      "+-----+----------+-----+\n",
      "|label|prediction|count|\n",
      "+-----+----------+-----+\n",
      "|  1.0|       1.0| 4275|\n",
      "|  0.0|       0.0|14992|\n",
      "|  0.0|       1.0|  419|\n",
      "|  1.0|       0.0| 1667|\n",
      "+-----+----------+-----+\n",
      "\n"
     ]
    }
   ],
   "source": [
    "pred.groupBy('label','prediction').count().show()"
   ]
  },
  {
   "cell_type": "markdown",
   "metadata": {},
   "source": [
    "### Curva ROC\n"
   ]
  },
  {
   "cell_type": "code",
   "execution_count": 17,
   "metadata": {
    "collapsed": false
   },
   "outputs": [
    {
     "data": {
      "image/png": "[encoded data removed]",
      "text/plain": [
       "<matplotlib.figure.Figure at 0x7f5c1220d710>"
      ]
     },
     "metadata": {},
     "output_type": "display_data"
    }
   ],
   "source": [
    "from pyspark.sql.functions import udf\n",
    "from pyspark.sql.types import FloatType\n",
    "import matplotlib.pyplot as plt\n",
    "from sklearn.metrics import roc_curve\n",
    "\n",
    "secondelement=udf(lambda v:float(v[1]),FloatType())\n",
    "pred2=pred.withColumn('probs',secondelement('probability'))\n",
    "\n",
    "\n",
    "#Dibujamos la curva ROC\n",
    "\n",
    "pd5 = pred2.sample(False,0.1).select('label','probs').toPandas()\n",
    "fpr, tpr, _ = roc_curve( pd5['label'], pd5['probs'])\n",
    "\n",
    "plt.plot(fpr, tpr)\n",
    "plt.plot([0, 1], [0, 1], color='navy', linestyle='--')\n",
    "plt.xlabel('1 - Esp (FPR)')\n",
    "plt.ylabel('Sens (TPR)')\n",
    "plt.title('Curva ROC')\n",
    "plt.show()"
   ]
  },
  {
   "cell_type": "code",
   "execution_count": 18,
   "metadata": {
    "collapsed": false
   },
   "outputs": [
    {
     "name": "stdout",
     "output_type": "stream",
     "text": [
      "+-----+--------------------+-------+--------------------+--------------------+----------+-----------+\n",
      "|label|            features|indexed|       rawPrediction|         probability|prediction|      probs|\n",
      "+-----+--------------------+-------+--------------------+--------------------+----------+-----------+\n",
      "|  0.0|[-15.0,1464.0,6.0...|    0.0|[443.965582441720...|[0.88793116488344...|       0.0| 0.11206883|\n",
      "|  0.0|[-11.0,236.0,2.0,...|    0.0|[432.408452168562...|[0.86481690433712...|       0.0|  0.1351831|\n",
      "|  0.0|[-11.0,651.0,5.0,...|    0.0|[466.539189144192...|[0.93307837828838...|       0.0| 0.06692162|\n",
      "|  0.0|[-10.0,255.0,5.0,...|    0.0|[468.767169431214...|[0.93753433886242...|       0.0| 0.06246566|\n",
      "|  0.0|[-10.0,414.0,6.0,...|    0.0|[439.289936131083...|[0.87857987226216...|       0.0| 0.12142013|\n",
      "|  0.0|[-10.0,862.0,2.0,...|    0.0|[444.999981376062...|[0.88999996275212...|       0.0| 0.11000004|\n",
      "|  0.0|[-10.0,1846.0,5.0...|    0.0|[438.184389368934...|[0.87636877873786...|       0.0|0.123631224|\n",
      "|  0.0|[-9.0,236.0,3.0,7...|    0.0|[448.983453109521...|[0.89796690621904...|       0.0| 0.10203309|\n",
      "|  0.0|[-9.0,255.0,2.0,2...|    0.0|[433.684744289829...|[0.86736948857965...|       0.0| 0.13263051|\n",
      "|  0.0|[-9.0,255.0,6.0,8...|    0.0|[450.467864307177...|[0.90093572861435...|       0.0| 0.09906427|\n",
      "|  0.0|[-9.0,602.0,5.0,1...|    0.0|[445.866812322503...|[0.89173362464500...|       0.0|0.108266376|\n",
      "|  0.0|[-9.0,628.0,6.0,9...|    0.0|[445.790249014578...|[0.89158049802915...|       0.0|  0.1084195|\n",
      "|  0.0|[-9.0,651.0,1.0,2...|    0.0|[446.002714664962...|[0.89200542932992...|       0.0| 0.10799457|\n",
      "|  0.0|[-9.0,651.0,3.0,2...|    0.0|[446.002714664962...|[0.89200542932992...|       0.0| 0.10799457|\n",
      "|  0.0|[-9.0,967.0,2.0,5...|    0.0|[467.360753157378...|[0.93472150631475...|       0.0| 0.06527849|\n",
      "|  0.0|[-9.0,1514.0,2.0,...|    0.0|[443.718716942601...|[0.88743743388520...|       0.0| 0.11256257|\n",
      "|  0.0|[-8.0,236.0,5.0,5...|    0.0|[468.026573643302...|[0.93605314728660...|       0.0| 0.06394685|\n",
      "|  0.0|[-8.0,255.0,1.0,1...|    0.0|[433.475426172405...|[0.86695085234481...|       0.0| 0.13304915|\n",
      "|  0.0|[-8.0,337.0,2.0,8...|    0.0|[448.248167603460...|[0.89649633520692...|       0.0| 0.10350367|\n",
      "|  0.0|[-8.0,370.0,3.0,1...|    0.0|[433.631135054212...|[0.86726227010842...|       0.0| 0.13273773|\n",
      "+-----+--------------------+-------+--------------------+--------------------+----------+-----------+\n",
      "only showing top 20 rows\n",
      "\n"
     ]
    }
   ],
   "source": [
    "pred2.show()"
   ]
  },
  {
   "cell_type": "code",
   "execution_count": 19,
   "metadata": {
    "collapsed": false
   },
   "outputs": [
    {
     "name": "stdout",
     "output_type": "stream",
     "text": [
      "AUC= 0.9156481366029132\n",
      "AUC= 0.9203753398231757\n"
     ]
    }
   ],
   "source": [
    "predtest = model.transform(bd_test)\n",
    "\n",
    "from pyspark.ml.evaluation import BinaryClassificationEvaluator as BCE\n",
    "print('AUC=',BCE(metricName=\"areaUnderROC\",rawPredictionCol = 'probability').evaluate(pred))\n",
    "print('AUC=',BCE(metricName=\"areaUnderROC\",rawPredictionCol = 'probability').evaluate(predtest))\n"
   ]
  }
 ],
 "metadata": {
  "anaconda-cloud": {},
  "kernelspec": {
   "display_name": "Python [default]",
   "language": "python",
   "name": "python3"
  },
  "language_info": {
   "codemirror_mode": {
    "name": "ipython",
    "version": 3
   },
   "file_extension": ".py",
   "mimetype": "text/x-python",
   "name": "python",
   "nbconvert_exporter": "python",
   "pygments_lexer": "ipython3",
   "version": "3.5.2"
  }
 },
 "nbformat": 4,
 "nbformat_minor": 2
}
